{
 "cells": [
  {
   "cell_type": "code",
   "execution_count": 161,
   "id": "9d7dfd9a",
   "metadata": {},
   "outputs": [],
   "source": [
    "import numpy as np\n",
    "\n",
    "import json\n",
    "import os\n",
    "import webbrowser\n",
    "\n",
    "import requests\n",
    "\n",
    "\n",
    "\n",
    "def use_requests():\n",
    "    api_url=\"https://www.balldontlie.io/api/v1/season_averages?season=2022&\"\n",
    "\n",
    "    response = requests.get(api_url)\n",
    "    json_response = json.loads(response.text)\n",
    "\n",
    "    return json_response\n",
    "\n",
    "a=use_requests()\n"
   ]
  },
  {
   "cell_type": "code",
   "execution_count": 96,
   "id": "de62af13",
   "metadata": {},
   "outputs": [],
   "source": [
    "import numpy as np\n",
    "\n",
    "import json\n",
    "import os\n",
    "import webbrowser\n",
    "import time\n",
    "import requests\n",
    "\n",
    "\n",
    "def use_requests(api_url):\n",
    "    jsons=[]\n",
    "#     for j in range(261):\n",
    "    for j in range(2):\n",
    "        for i in range(60):\n",
    "            api_url=\"https://www.balldontlie.io/api/v1/stats?page=\"+str(j*60+i)+\"&per_page=100\"\n",
    "            response = requests.get(api_url)\n",
    "            json_response = json.loads(response.text)\n",
    "            jsons.append(json_response)\n",
    "        time.sleep(60)\n",
    "    return jsons\n",
    "\n",
    "a=use_requests(api_url)\n"
   ]
  },
  {
   "cell_type": "code",
   "execution_count": 135,
   "id": "e1585533",
   "metadata": {},
   "outputs": [
    {
     "ename": "KeyError",
     "evalue": "0",
     "output_type": "error",
     "traceback": [
      "\u001b[0;31m---------------------------------------------------------------------------\u001b[0m",
      "\u001b[0;31mKeyError\u001b[0m                                  Traceback (most recent call last)",
      "Cell \u001b[0;32mIn[135], line 1\u001b[0m\n\u001b[0;32m----> 1\u001b[0m b\u001b[38;5;241m=\u001b[39m\u001b[43ma\u001b[49m\u001b[43m[\u001b[49m\u001b[38;5;241;43m0\u001b[39;49m\u001b[43m]\u001b[49m[\u001b[38;5;124m'\u001b[39m\u001b[38;5;124mdata\u001b[39m\u001b[38;5;124m'\u001b[39m]\n",
      "\u001b[0;31mKeyError\u001b[0m: 0"
     ]
    }
   ],
   "source": [
    "b=a[0]['data']"
   ]
  },
  {
   "cell_type": "code",
   "execution_count": 1,
   "id": "e5d6d25b",
   "metadata": {},
   "outputs": [
    {
     "name": "stdout",
     "output_type": "stream",
     "text": [
      "    NUMBER             PLAYER POS HEIGHT  WEIGHT BIRTH_DATE NATIONALITY  \\\n",
      "0        2        Jordan Bell   C    6-8     216 1995-01-07          US   \n",
      "1       12       Andrew Bogut   C    7-0     260 1984-11-28          AU   \n",
      "2        4         Quinn Cook  PG    6-1     180 1993-03-23          US   \n",
      "3        0   DeMarcus Cousins   C   6-10     270 1990-08-13          US   \n",
      "4       30      Stephen Curry  PG    6-2     185 1988-03-14          US   \n",
      "5       32  Marcus Derrickson  PF    6-7     249 1996-02-01          US   \n",
      "6       35       Kevin Durant  SF   6-11     240 1988-09-29          US   \n",
      "7       10        Jacob Evans  SG    6-4     210 1997-06-18          US   \n",
      "8       23     Draymond Green  PF    6-6     230 1990-03-04          US   \n",
      "9        9     Andre Iguodala  SF    6-6     215 1984-01-28          US   \n",
      "10      21      Jonas Jerebko  PF   6-10     231 1987-03-02          SE   \n",
      "11      15       Damian Jones   C   6-11     245 1995-06-30          US   \n",
      "12       1         Damion Lee  SG    6-5     210 1992-10-21          US   \n",
      "13      34   Shaun Livingston  PG    6-7     192 1985-09-11          US   \n",
      "14       5       Kevon Looney   C    6-9     222 1996-02-06          US   \n",
      "15      28   Alfonzo McKinnie  SF    6-7     215 1992-09-17          US   \n",
      "16      11      Klay Thompson  SG    6-6     215 1990-02-08          US   \n",
      "\n",
      "   EXPERIENCE             COLLEGE  \n",
      "0           1              Oregon  \n",
      "1          13                Utah  \n",
      "2           2                Duke  \n",
      "3           8            Kentucky  \n",
      "4           9            Davidson  \n",
      "5           R          Georgetown  \n",
      "6          11               Texas  \n",
      "7           R          Cincinnati  \n",
      "8           6      Michigan State  \n",
      "9          14             Arizona  \n",
      "10          8                 NaN  \n",
      "11          2          Vanderbilt  \n",
      "12          1  Drexel, Louisville  \n",
      "13         13                 NaN  \n",
      "14          3                UCLA  \n",
      "15          1           Green Bay  \n",
      "16          7    Washington State  \n"
     ]
    }
   ],
   "source": [
    "from basketball_reference_scraper.teams import get_roster, get_team_stats, get_opp_stats, get_roster_stats, get_team_misc\n",
    "\n",
    "df = get_roster('GSW', 2019)\n",
    "print(df)\n"
   ]
  }
 ],
 "metadata": {
  "kernelspec": {
   "display_name": "Python 3 (ipykernel)",
   "language": "python",
   "name": "python3"
  },
  "language_info": {
   "codemirror_mode": {
    "name": "ipython",
    "version": 3
   },
   "file_extension": ".py",
   "mimetype": "text/x-python",
   "name": "python",
   "nbconvert_exporter": "python",
   "pygments_lexer": "ipython3",
   "version": "3.9.6"
  }
 },
 "nbformat": 4,
 "nbformat_minor": 5
}
